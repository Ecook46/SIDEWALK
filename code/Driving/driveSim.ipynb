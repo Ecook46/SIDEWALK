{
 "cells": [
  {
   "cell_type": "code",
   "execution_count": 72,
   "metadata": {},
   "outputs": [],
   "source": [
    "import numpy as np\n",
    "import matplotlib.pyplot as plt\n",
    "import time\n",
    "from IPython import display"
   ]
  },
  {
   "cell_type": "code",
   "execution_count": 79,
   "metadata": {},
   "outputs": [],
   "source": [
    "class CustomEnv:\n",
    "    def __init__(self):\n",
    "    \n",
    "        # a 6x6 grid as the environment\n",
    "        self.grid = np.zeros((6, 6))\n",
    "        self.grid_size = (6, 6)\n",
    "\n",
    "        # define initial position\n",
    "        self.agent_position = (5, 0)\n",
    "\n",
    "        self.path = self.generate_path()\n",
    "        self.path_index = 0  # To keep track of the agent's position in the path\n",
    "        self.charged = False # flag if robot has turned around to charge during the run\n",
    "\n",
    "    def generate_path(self):\n",
    "        path = []\n",
    "        rows, cols = self.grid_size\n",
    "        \n",
    "        # Start at the bottom-left corner of the grid (start position)\n",
    "        current_position = (rows - 1, 0)\n",
    "        \n",
    "        # Loop to move right and left while moving up after each row\n",
    "        while current_position[0] >= 0:\n",
    "            # check if position is the point to turn around\n",
    "            if current_position == (2,0):\n",
    "                # move down to start position then move back up\n",
    "                for row in range(4):\n",
    "                    current_position = (current_position[0]+1,0)\n",
    "                    path.append((row, current_position[1]))\n",
    "                self.charged = True\n",
    "                # move back up\n",
    "                for row in range(4):\n",
    "                    current_position = (current_position[0]+1,0)\n",
    "                    path.append(row, current_position[1])\n",
    "            # Move right until we hit the right border\n",
    "            for col in range(current_position[1], cols):\n",
    "                path.append((current_position[0], col))\n",
    "            \n",
    "            # Move up one row if not yet on the top row\n",
    "            if current_position[0] > 0:\n",
    "                current_position = (current_position[0] - 1, cols - 1)  # Move up and to the far right\n",
    "            else:\n",
    "                break\n",
    "\n",
    "            # Move left until we hit the left border\n",
    "            for col in range(current_position[1], -1, -1):\n",
    "                path.append((current_position[0], col))\n",
    "            \n",
    "            # Move up one row if not yet on the top row\n",
    "            if current_position[0] > 0:\n",
    "                current_position = (current_position[0] - 1, 0)  # Move up and to the far left\n",
    "            else:\n",
    "                break\n",
    "            \n",
    "\n",
    "\n",
    "        return path\n",
    "\n",
    "    def step(self):\n",
    "        # Move the agent along the path\n",
    "        if self.path_index < len(self.path) - 1:\n",
    "            self.path_index += 1\n",
    "            self.agent_position = self.path[self.path_index]\n",
    "\n",
    "    def reset(self):\n",
    "        # Reset agent to original position\n",
    "        self.agent_position = (5, 0)\n",
    "\n",
    "    def render(self):\n",
    "        self.grid = np.zeros((6, 6))  # Reset grid to zeros before rendering\n",
    "        self.grid[self.agent_position] = 1\n",
    "        return self.grid\n"
   ]
  },
  {
   "cell_type": "code",
   "execution_count": 80,
   "metadata": {},
   "outputs": [
    {
     "data": {
      "image/png": "[encoded data removed]",
      "text/plain": [
       "<Figure size 640x480 with 1 Axes>"
      ]
     },
     "metadata": {},
     "output_type": "display_data"
    }
   ],
   "source": [
    "env = CustomEnv()\n",
    "env.reset()\n",
    "#env.render()\n",
    "plt.imshow(env.render())\n",
    "plt.show()"
   ]
  },
  {
   "cell_type": "code",
   "execution_count": 81,
   "metadata": {},
   "outputs": [
    {
     "data": {
      "image/png": "[encoded data removed]",
      "text/plain": [
       "<Figure size 640x480 with 1 Axes>"
      ]
     },
     "metadata": {},
     "output_type": "display_data"
    },
    {
     "data": {
      "image/png": "[encoded data removed]",
      "text/plain": [
       "<Figure size 640x480 with 1 Axes>"
      ]
     },
     "metadata": {},
     "output_type": "display_data"
    }
   ],
   "source": [
    "# Iterate through the path and move the agent\n",
    "for i in range(len(env.path)):\n",
    "    # Perform a step in the path (move to the next position)\n",
    "    env.step()\n",
    "    \n",
    "    # Render the grid and update the display\n",
    "    plt.imshow(env.render())\n",
    "    display.clear_output(wait=True)  # Clear the output so the display updates\n",
    "    display.display(plt.gcf())  # Display the updated grid\n",
    "    \n",
    "    time.sleep(0.1)  # Pause for a moment to make the movement visible"
   ]
  }
 ],
 "metadata": {
  "kernelspec": {
   "display_name": "Python 3",
   "language": "python",
   "name": "python3"
  },
  "language_info": {
   "codemirror_mode": {
    "name": "ipython",
    "version": 3
   },
   "file_extension": ".py",
   "mimetype": "text/x-python",
   "name": "python",
   "nbconvert_exporter": "python",
   "pygments_lexer": "ipython3",
   "version": "3.10.11"
  }
 },
 "nbformat": 4,
 "nbformat_minor": 2
}
