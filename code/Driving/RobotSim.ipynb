{
 "cells": [
  {
   "cell_type": "code",
   "execution_count": 31,
   "metadata": {},
   "outputs": [],
   "source": [
    "import numpy as np\n",
    "import matplotlib.pyplot as plt\n",
    "import gymnasium as gym\n",
    "import time"
   ]
  },
  {
   "cell_type": "code",
   "execution_count": 32,
   "metadata": {},
   "outputs": [],
   "source": [
    "dim = 6"
   ]
  },
  {
   "cell_type": "code",
   "execution_count": 33,
   "metadata": {},
   "outputs": [],
   "source": [
    "class RobotEnv(gym.Env):\n",
    "    # observation represents the car's current position\n",
    "    # reward is the value, either 1 (charging station) or 0 (not charging station); could add cracks or something later\n",
    "    def __init__(self):\n",
    "        super().__init__()\n",
    "        # agent has 4 possible actions\n",
    "        n_actions = 4\n",
    "        # for a 10x10 grid\n",
    "        n_states = dim*dim\n",
    "        # define action space\n",
    "        # next step: make it a continuous space\n",
    "        self.action_space = gym.spaces.Discrete(n_actions)\n",
    "        # define observation space\n",
    "        self.observation_space = gym.spaces.Discrete(n_states)\n",
    "\n",
    "        # check if reset\n",
    "        self.if_reset = False\n",
    "        \n",
    "        # a 10x10 grid as the environment\n",
    "        self.grid = np.zeros((dim,dim))\n",
    "\n",
    "        # define initial position\n",
    "        self.agent_position = (0,0)\n",
    "\n",
    "        # define goal postion as upper opposite corner\n",
    "        self.goal = (dim-1,dim-1) \n",
    "\n",
    "    def step(self, action):\n",
    "        # change the agent's position depending on the input\n",
    "        \n",
    "        row = self.agent_position[0] # current row\n",
    "        col = self.agent_position[1] # current col\n",
    "        \n",
    "        if action == 0: #UP\n",
    "            if 0 <= row-1 < dim: # checking the boundary\n",
    "                self.agent_position = (row-1,col)\n",
    "            else:\n",
    "                # position stays the same if the agent is at an edge\n",
    "                self.agent_position = self.agent_position \n",
    "        elif action == 1: #DOWN\n",
    "            if 0 <= row+1 < dim:\n",
    "                self.agent_position = (row+1,col)\n",
    "            else:\n",
    "                self.agent_position = self.agent_position                \n",
    "        elif action == 2: #LEFT\n",
    "            if 0 <= col-1 < dim:\n",
    "                self.agent_position = (row,col-1)\n",
    "            else:\n",
    "                self.agent_position = self.agent_position                \n",
    "        elif action == 3: #RIGHT\n",
    "            if 0 <= col+1 < dim:\n",
    "                self.agent_position = (row,col+1)\n",
    "            else:\n",
    "                self.agent_position = self.agent_position\n",
    "        \n",
    "        # observation is the agent's position on the grid, from 0 to 99\n",
    "        observation = self.agent_position[0]*10 + self.agent_position[1]\n",
    "\n",
    "        # reward function based on the value of the agent's position\n",
    "        reward = observation +1\n",
    "        '''\n",
    "        if observation == 99:\n",
    "            reward = 100\n",
    "        elif observation % 2 == 0:\n",
    "            reward = 20\n",
    "        else:\n",
    "            reward = 30'\n",
    "        '''\n",
    "        \n",
    "        # task is complete if the agent reaches the goal\n",
    "        terminated = None\n",
    "        if self.agent_position == self.goal:\n",
    "            terminated = True\n",
    "\n",
    "        return observation, reward, terminated, False, {}\n",
    "    \n",
    "    def reset(self):\n",
    "        # reset agent to initial position\n",
    "        self.agent_position = (0,0)\n",
    "        # define goal postion \n",
    "        self.goal = (dim-1,dim-1)\n",
    "        # get initial observation\n",
    "        observation = self.agent_position[0]*10 + self.agent_position[1]\n",
    "    \n",
    "        return observation, {}\n",
    "    \n",
    "    def render(self):\n",
    "        self.grid = np.zeros((dim,dim))\n",
    "        self.grid[self.goal] = 99\n",
    "\n",
    "        # point values for visualization\n",
    "        \n",
    "        # trying to teach the agent a spiral pattern\n",
    "\n",
    "        # agent position value for visualization\n",
    "        self.grid[self.agent_position] = 50\n",
    "\n",
    "        return self.grid\n",
    "\n",
    "    def close(self):\n",
    "        pass"
   ]
  },
  {
   "cell_type": "code",
   "execution_count": 34,
   "metadata": {},
   "outputs": [
    {
     "data": {
      "text/plain": [
       "<matplotlib.image.AxesImage at 0x28c345d97f0>"
      ]
     },
     "execution_count": 34,
     "metadata": {},
     "output_type": "execute_result"
    },
    {
     "data": {
      "image/png": "[encoded data removed]",
      "text/plain": [
       "<Figure size 640x480 with 1 Axes>"
      ]
     },
     "metadata": {},
     "output_type": "display_data"
    }
   ],
   "source": [
    "env = RobotEnv()\n",
    "env.reset()\n",
    "plt.imshow(env.render(),cmap='coolwarm')"
   ]
  },
  {
   "cell_type": "code",
   "execution_count": 35,
   "metadata": {},
   "outputs": [],
   "source": [
    "def select_action(q_table, state, epsilon, action_space):\n",
    "    if np.random.rand() > epsilon:\n",
    "        # exploitation uses q table to choose action\n",
    "        action = q_table[state, :].argmax()\n",
    "    else:\n",
    "        # exploration is random\n",
    "        action = np.random.randint(4)\n",
    "    return action"
   ]
  },
  {
   "cell_type": "code",
   "execution_count": 36,
   "metadata": {},
   "outputs": [],
   "source": [
    "def q_learning(epsilon,eps_decay,min_epsilon,gamma,action_space,rewards):\n",
    "    q_table = np.zeros((100,4))\n",
    "    actions = ['up', 'down', 'left', 'right'] \n",
    "    # reset the environment\n",
    "    state, _ = env.reset()\n",
    "    learning_rate = 0.5\n",
    "\n",
    "    for t in range(50000):\n",
    "        # select action\n",
    "        action = select_action(q_table, state,  epsilon, action_space)\n",
    "        next_state, reward, terminated, truncated, info = env.step(action)\n",
    "        # update q table\n",
    "        q_table[state, action] = (1 - learning_rate) * q_table[state, action] + \\\n",
    "                                learning_rate * (reward + (gamma * q_table[next_state, :].max()))\n",
    "        # update rewards list\n",
    "        rewards.append(reward)\n",
    "        state = next_state\n",
    "        # update epsilon if decay is used\n",
    "        epsilon = np.max([epsilon - eps_decay, min_epsilon])\n",
    "    \n",
    "    return q_table, rewards"
   ]
  },
  {
   "cell_type": "code",
   "execution_count": 37,
   "metadata": {},
   "outputs": [],
   "source": [
    "q_tableD, rewardsD = q_learning(0.99,0.001,0.1,0.8,4,[])"
   ]
  },
  {
   "cell_type": "code",
   "execution_count": 38,
   "metadata": {},
   "outputs": [
    {
     "data": {
      "text/plain": [
       "Text(0.5, 1.0, 'Epsilon=0.99, Decay=0.001, Gamma=0.9')"
      ]
     },
     "execution_count": 38,
     "metadata": {},
     "output_type": "execute_result"
    },
    {
     "data": {
      "image/png": "[encoded data removed]",
      "text/plain": [
       "<Figure size 640x480 with 1 Axes>"
      ]
     },
     "metadata": {},
     "output_type": "display_data"
    }
   ],
   "source": [
    "T = 1000\n",
    "reward_conv1 =  np.convolve(np.array(rewardsD), np.ones(T), mode=\"valid\") / T\n",
    "fig, ax = plt.subplots()\n",
    "ax.plot(reward_conv1)\n",
    "ax.set_xlabel('Iterations')\n",
    "ax.set_ylabel('Reward')\n",
    "ax.set_title('Epsilon=0.99, Decay=0.001, Gamma=0.9')"
   ]
  },
  {
   "cell_type": "code",
   "execution_count": 39,
   "metadata": {},
   "outputs": [
    {
     "data": {
      "text/plain": [
       "array([[ 15.47125562,  38.18830134,  17.33636125,   3.30192   ],\n",
       "       [  3.30192   ,  17.91856896,  21.92344172,  14.02108512],\n",
       "       [ 26.05344991,  44.91961492,  13.72843427,  17.98698996],\n",
       "       [ 17.59060277,   0.        ,  31.02429778,   4.60613002],\n",
       "       [  0.        ,  30.0965131 ,   5.26532506,   0.        ],\n",
       "       [ 18.47295488,  47.94724186,   0.        ,   0.        ],\n",
       "       [  0.        ,   0.        ,   0.        ,   0.        ],\n",
       "       [  0.        ,   0.        ,   0.        ,   0.        ],\n",
       "       [  0.        ,   0.        ,   0.        ,   0.        ],\n",
       "       [  0.        ,   0.        ,   0.        ,   0.        ],\n",
       "       [ 15.08573725,  43.97594428,  20.1480328 ,  28.44884629],\n",
       "       [ 13.48936138,   0.        ,  20.2851184 ,  40.0626456 ],\n",
       "       [ 36.36568518,  49.30818566,  31.96731029,  19.73027733],\n",
       "       [  2.        ,   0.        ,  34.61354   ,   7.5       ],\n",
       "       [  7.15      ,  24.56389555,  10.        ,  84.07818831],\n",
       "       [ 19.22295488, 144.78908229,  54.68396092,  58.49458901],\n",
       "       [  0.        ,   0.        ,   0.        ,   0.        ],\n",
       "       [  0.        ,   0.        ,   0.        ,   0.        ],\n",
       "       [  0.        ,   0.        ,   0.        ,   0.        ],\n",
       "       [  0.        ,   0.        ,   0.        ,   0.        ],\n",
       "       [ 20.07574153,  37.23137481,  65.5202333 ,  51.50624287],\n",
       "       [ 19.58956181,  97.11621101,  50.37222531,  47.60902158],\n",
       "       [ 42.7214225 , 131.2265949 ,  54.01893358,  31.11463454],\n",
       "       [  7.8       ,   0.        ,  97.86666322,  33.1352046 ],\n",
       "       [ 36.37099054, 230.85498792,  70.41154572, 138.88631445],\n",
       "       [101.22709026, 146.68181136, 189.98804544, 120.38967953],\n",
       "       [  0.        ,   0.        ,   0.        ,   0.        ],\n",
       "       [  0.        ,   0.        ,   0.        ,   0.        ],\n",
       "       [  0.        ,   0.        ,   0.        ,   0.        ],\n",
       "       [  0.        ,   0.        ,   0.        ,   0.        ],\n",
       "       [ 34.95343702, 148.0379585 ,   0.        ,  16.        ],\n",
       "       [ 47.55586542, 138.57166437,   0.        ,  34.11471605],\n",
       "       [ 69.41663125, 115.72241159,  94.21590054, 168.8095616 ],\n",
       "       [ 44.5993782 , 144.29599028, 151.90940058, 221.10677618],\n",
       "       [172.90627951, 142.68863642, 167.56555192, 252.        ],\n",
       "       [162.37530718, 270.        , 209.13581426, 234.278002  ],\n",
       "       [  0.        ,   0.        ,   0.        ,   0.        ],\n",
       "       [  0.        ,   0.        ,   0.        ,   0.        ],\n",
       "       [  0.        ,   0.        ,   0.        ,   0.        ],\n",
       "       [  0.        ,   0.        ,   0.        ,   0.        ],\n",
       "       [ 82.43062439,  25.5       , 171.84835149, 184.77078384],\n",
       "       [ 82.14187266,  65.747952  , 182.6117158 , 120.3106452 ],\n",
       "       [154.52752987,  26.5       ,  79.96596191,  22.        ],\n",
       "       [135.1170966 , 114.77090374, 112.56339707, 261.        ],\n",
       "       [236.6       , 226.0758606 , 252.65907399, 270.        ],\n",
       "       [252.        , 280.        , 260.99999999, 269.99999938],\n",
       "       [  0.        ,   0.        ,   0.        ,   0.        ],\n",
       "       [  0.        ,   0.        ,   0.        ,   0.        ],\n",
       "       [  0.        ,   0.        ,   0.        ,   0.        ],\n",
       "       [  0.        ,   0.        ,   0.        ,   0.        ],\n",
       "       [ 70.67261665,   0.        ,   0.        ,  26.        ],\n",
       "       [ 91.75592191,   0.        ,  35.9       ,   0.        ],\n",
       "       [  0.        ,   0.        ,   0.        ,  27.        ],\n",
       "       [252.7999998 , 128.11935104,   0.        , 209.25      ],\n",
       "       [261.        , 278.99999964, 256.23999839, 280.        ],\n",
       "       [270.        , 280.        , 279.        , 280.        ],\n",
       "       [  0.        ,   0.        ,   0.        ,   0.        ],\n",
       "       [  0.        ,   0.        ,   0.        ,   0.        ],\n",
       "       [  0.        ,   0.        ,   0.        ,   0.        ],\n",
       "       [  0.        ,   0.        ,   0.        ,   0.        ],\n",
       "       [  0.        ,   0.        ,   0.        ,   0.        ],\n",
       "       [  0.        ,   0.        ,   0.        ,   0.        ],\n",
       "       [  0.        ,   0.        ,   0.        ,   0.        ],\n",
       "       [  0.        ,   0.        ,   0.        ,   0.        ],\n",
       "       [  0.        ,   0.        ,   0.        ,   0.        ],\n",
       "       [  0.        ,   0.        ,   0.        ,   0.        ],\n",
       "       [  0.        ,   0.        ,   0.        ,   0.        ],\n",
       "       [  0.        ,   0.        ,   0.        ,   0.        ],\n",
       "       [  0.        ,   0.        ,   0.        ,   0.        ],\n",
       "       [  0.        ,   0.        ,   0.        ,   0.        ],\n",
       "       [  0.        ,   0.        ,   0.        ,   0.        ],\n",
       "       [  0.        ,   0.        ,   0.        ,   0.        ],\n",
       "       [  0.        ,   0.        ,   0.        ,   0.        ],\n",
       "       [  0.        ,   0.        ,   0.        ,   0.        ],\n",
       "       [  0.        ,   0.        ,   0.        ,   0.        ],\n",
       "       [  0.        ,   0.        ,   0.        ,   0.        ],\n",
       "       [  0.        ,   0.        ,   0.        ,   0.        ],\n",
       "       [  0.        ,   0.        ,   0.        ,   0.        ],\n",
       "       [  0.        ,   0.        ,   0.        ,   0.        ],\n",
       "       [  0.        ,   0.        ,   0.        ,   0.        ],\n",
       "       [  0.        ,   0.        ,   0.        ,   0.        ],\n",
       "       [  0.        ,   0.        ,   0.        ,   0.        ],\n",
       "       [  0.        ,   0.        ,   0.        ,   0.        ],\n",
       "       [  0.        ,   0.        ,   0.        ,   0.        ],\n",
       "       [  0.        ,   0.        ,   0.        ,   0.        ],\n",
       "       [  0.        ,   0.        ,   0.        ,   0.        ],\n",
       "       [  0.        ,   0.        ,   0.        ,   0.        ],\n",
       "       [  0.        ,   0.        ,   0.        ,   0.        ],\n",
       "       [  0.        ,   0.        ,   0.        ,   0.        ],\n",
       "       [  0.        ,   0.        ,   0.        ,   0.        ],\n",
       "       [  0.        ,   0.        ,   0.        ,   0.        ],\n",
       "       [  0.        ,   0.        ,   0.        ,   0.        ],\n",
       "       [  0.        ,   0.        ,   0.        ,   0.        ],\n",
       "       [  0.        ,   0.        ,   0.        ,   0.        ],\n",
       "       [  0.        ,   0.        ,   0.        ,   0.        ],\n",
       "       [  0.        ,   0.        ,   0.        ,   0.        ],\n",
       "       [  0.        ,   0.        ,   0.        ,   0.        ],\n",
       "       [  0.        ,   0.        ,   0.        ,   0.        ],\n",
       "       [  0.        ,   0.        ,   0.        ,   0.        ],\n",
       "       [  0.        ,   0.        ,   0.        ,   0.        ]])"
      ]
     },
     "execution_count": 39,
     "metadata": {},
     "output_type": "execute_result"
    }
   ],
   "source": [
    "q_tableD"
   ]
  },
  {
   "cell_type": "code",
   "execution_count": 40,
   "metadata": {},
   "outputs": [
    {
     "data": {
      "image/png": "[encoded data removed]",
      "text/plain": [
       "<Figure size 640x480 with 1 Axes>"
      ]
     },
     "metadata": {},
     "output_type": "display_data"
    }
   ],
   "source": [
    "state, _ = env.reset()\n",
    "actions = ['up', 'down', 'left','right' ] \n",
    "path = []\n",
    "\n",
    "for t in range(100):\n",
    "    action = q_tableD[state, :].argmax()\n",
    "    path.append((env.agent_position,actions[action]))\n",
    "\n",
    "    next_state, reward, terminated, truncated, info = env.step(action)\n",
    "    state = next_state\n",
    "    plt.imshow(env.render(),cmap='coolwarm')\n",
    "    \n",
    "    if terminated:\n",
    "        path.append((env.agent_position,actions[action]))\n",
    "        state, _ = env.reset()\n",
    "        break"
   ]
  },
  {
   "cell_type": "code",
   "execution_count": 41,
   "metadata": {},
   "outputs": [
    {
     "data": {
      "text/plain": [
       "[((0, 0), 'down'),\n",
       " ((1, 0), 'down'),\n",
       " ((2, 0), 'left'),\n",
       " ((2, 0), 'left'),\n",
       " ((2, 0), 'left'),\n",
       " ((2, 0), 'left'),\n",
       " ((2, 0), 'left'),\n",
       " ((2, 0), 'left'),\n",
       " ((2, 0), 'left'),\n",
       " ((2, 0), 'left'),\n",
       " ((2, 0), 'left'),\n",
       " ((2, 0), 'left'),\n",
       " ((2, 0), 'left'),\n",
       " ((2, 0), 'left'),\n",
       " ((2, 0), 'left'),\n",
       " ((2, 0), 'left'),\n",
       " ((2, 0), 'left'),\n",
       " ((2, 0), 'left'),\n",
       " ((2, 0), 'left'),\n",
       " ((2, 0), 'left'),\n",
       " ((2, 0), 'left'),\n",
       " ((2, 0), 'left'),\n",
       " ((2, 0), 'left'),\n",
       " ((2, 0), 'left'),\n",
       " ((2, 0), 'left'),\n",
       " ((2, 0), 'left'),\n",
       " ((2, 0), 'left'),\n",
       " ((2, 0), 'left'),\n",
       " ((2, 0), 'left'),\n",
       " ((2, 0), 'left'),\n",
       " ((2, 0), 'left'),\n",
       " ((2, 0), 'left'),\n",
       " ((2, 0), 'left'),\n",
       " ((2, 0), 'left'),\n",
       " ((2, 0), 'left'),\n",
       " ((2, 0), 'left'),\n",
       " ((2, 0), 'left'),\n",
       " ((2, 0), 'left'),\n",
       " ((2, 0), 'left'),\n",
       " ((2, 0), 'left'),\n",
       " ((2, 0), 'left'),\n",
       " ((2, 0), 'left'),\n",
       " ((2, 0), 'left'),\n",
       " ((2, 0), 'left'),\n",
       " ((2, 0), 'left'),\n",
       " ((2, 0), 'left'),\n",
       " ((2, 0), 'left'),\n",
       " ((2, 0), 'left'),\n",
       " ((2, 0), 'left'),\n",
       " ((2, 0), 'left'),\n",
       " ((2, 0), 'left'),\n",
       " ((2, 0), 'left'),\n",
       " ((2, 0), 'left'),\n",
       " ((2, 0), 'left'),\n",
       " ((2, 0), 'left'),\n",
       " ((2, 0), 'left'),\n",
       " ((2, 0), 'left'),\n",
       " ((2, 0), 'left'),\n",
       " ((2, 0), 'left'),\n",
       " ((2, 0), 'left'),\n",
       " ((2, 0), 'left'),\n",
       " ((2, 0), 'left'),\n",
       " ((2, 0), 'left'),\n",
       " ((2, 0), 'left'),\n",
       " ((2, 0), 'left'),\n",
       " ((2, 0), 'left'),\n",
       " ((2, 0), 'left'),\n",
       " ((2, 0), 'left'),\n",
       " ((2, 0), 'left'),\n",
       " ((2, 0), 'left'),\n",
       " ((2, 0), 'left'),\n",
       " ((2, 0), 'left'),\n",
       " ((2, 0), 'left'),\n",
       " ((2, 0), 'left'),\n",
       " ((2, 0), 'left'),\n",
       " ((2, 0), 'left'),\n",
       " ((2, 0), 'left'),\n",
       " ((2, 0), 'left'),\n",
       " ((2, 0), 'left'),\n",
       " ((2, 0), 'left'),\n",
       " ((2, 0), 'left'),\n",
       " ((2, 0), 'left'),\n",
       " ((2, 0), 'left'),\n",
       " ((2, 0), 'left'),\n",
       " ((2, 0), 'left'),\n",
       " ((2, 0), 'left'),\n",
       " ((2, 0), 'left'),\n",
       " ((2, 0), 'left'),\n",
       " ((2, 0), 'left'),\n",
       " ((2, 0), 'left'),\n",
       " ((2, 0), 'left'),\n",
       " ((2, 0), 'left'),\n",
       " ((2, 0), 'left'),\n",
       " ((2, 0), 'left'),\n",
       " ((2, 0), 'left'),\n",
       " ((2, 0), 'left'),\n",
       " ((2, 0), 'left'),\n",
       " ((2, 0), 'left'),\n",
       " ((2, 0), 'left'),\n",
       " ((2, 0), 'left')]"
      ]
     },
     "execution_count": 41,
     "metadata": {},
     "output_type": "execute_result"
    }
   ],
   "source": [
    "path"
   ]
  },
  {
   "cell_type": "code",
   "execution_count": 42,
   "metadata": {},
   "outputs": [
    {
     "data": {
      "text/plain": [
       "<matplotlib.image.AxesImage at 0x28c348e8ca0>"
      ]
     },
     "execution_count": 42,
     "metadata": {},
     "output_type": "execute_result"
    },
    {
     "data": {
      "image/png": "[encoded data removed]",
      "text/plain": [
       "<Figure size 640x480 with 1 Axes>"
      ]
     },
     "metadata": {},
     "output_type": "display_data"
    }
   ],
   "source": [
    "grid = np.zeros((dim,dim))\n",
    "for i in range(len(path)):\n",
    "    grid[path[i][0]] = i+1\n",
    "plt.imshow(grid,cmap='Reds')"
   ]
  },
  {
   "cell_type": "code",
   "execution_count": 43,
   "metadata": {},
   "outputs": [
    {
     "data": {
      "text/plain": [
       "<matplotlib.image.AxesImage at 0x28c3494dca0>"
      ]
     },
     "execution_count": 43,
     "metadata": {},
     "output_type": "execute_result"
    },
    {
     "data": {
      "image/png": "[encoded data removed]",
      "text/plain": [
       "<Figure size 640x480 with 1 Axes>"
      ]
     },
     "metadata": {},
     "output_type": "display_data"
    }
   ],
   "source": [
    "path = []\n",
    "# if row number is odd, go right, otherwise go left\n",
    "# if end of row, go down\n",
    "for i in range(dim):\n",
    "    path.append(((0,i),'right'))\n",
    "path.append(((1,dim),'down'))\n",
    "for i in range(dim):\n",
    "    path.append(((1,i),'left'))\n",
    "\n",
    "grid = np.zeros((dim,dim))\n",
    "for i in range(dim):\n",
    "    for j in range(dim):\n",
    "        grid[path[i][0]] = i+1\n",
    "\n",
    "plt.imshow(grid,cmap='Reds')"
   ]
  },
  {
   "cell_type": "code",
   "execution_count": 44,
   "metadata": {},
   "outputs": [
    {
     "data": {
      "text/plain": [
       "[((0, 0), 'right'),\n",
       " ((0, 1), 'right'),\n",
       " ((0, 2), 'right'),\n",
       " ((0, 3), 'right'),\n",
       " ((0, 4), 'right'),\n",
       " ((0, 5), 'right'),\n",
       " ((1, 6), 'down'),\n",
       " ((1, 0), 'left'),\n",
       " ((1, 1), 'left'),\n",
       " ((1, 2), 'left'),\n",
       " ((1, 3), 'left'),\n",
       " ((1, 4), 'left'),\n",
       " ((1, 5), 'left')]"
      ]
     },
     "execution_count": 44,
     "metadata": {},
     "output_type": "execute_result"
    }
   ],
   "source": [
    "path"
   ]
  },
  {
   "cell_type": "code",
   "execution_count": 45,
   "metadata": {},
   "outputs": [
    {
     "data": {
      "text/plain": [
       "1"
      ]
     },
     "execution_count": 45,
     "metadata": {},
     "output_type": "execute_result"
    }
   ],
   "source": [
    "len(path)%dim"
   ]
  },
  {
   "cell_type": "code",
   "execution_count": null,
   "metadata": {},
   "outputs": [],
   "source": [
    "pos = (0,0) # initial position\n",
    "obs = pos[0]*dim+pos[1] #position as a number from 0 to dim\n",
    "row = pos[0] # current row\n",
    "col = pos[1] # current col\n",
    "charged = False\n",
    "# iterate over the whole grid (rows, columns for each row)\n",
    "# take observation and decide what to do\n",
    "# if row # is odd, go right; if even, go left\n",
    "# if edge, go down\n",
    "# if specific square for the first time, go back up, then back down\n",
    "\n"
   ]
  }
 ],
 "metadata": {
  "kernelspec": {
   "display_name": "gym",
   "language": "python",
   "name": "python3"
  },
  "language_info": {
   "codemirror_mode": {
    "name": "ipython",
    "version": 3
   },
   "file_extension": ".py",
   "mimetype": "text/x-python",
   "name": "python",
   "nbconvert_exporter": "python",
   "pygments_lexer": "ipython3",
   "version": "3.9.18"
  }
 },
 "nbformat": 4,
 "nbformat_minor": 2
}
