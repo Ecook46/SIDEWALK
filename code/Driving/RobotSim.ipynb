{
 "cells": [
  {
   "cell_type": "code",
   "execution_count": 1,
   "metadata": {},
   "outputs": [],
   "source": [
    "import numpy as np\n",
    "import matplotlib.pyplot as plt\n",
    "import gymnasium as gym\n",
    "import time"
   ]
  },
  {
   "cell_type": "code",
   "execution_count": 2,
   "metadata": {},
   "outputs": [],
   "source": [
    "dim = 6"
   ]
  },
  {
   "cell_type": "code",
   "execution_count": 3,
   "metadata": {},
   "outputs": [],
   "source": [
    "class RobotEnv(gym.Env):\n",
    "    # observation represents the car's current position\n",
    "    # reward is the value, either 1 (charging station) or 0 (not charging station); could add cracks or something later\n",
    "    def __init__(self):\n",
    "        super().__init__()\n",
    "        # agent has 4 possible actions\n",
    "        n_actions = 4\n",
    "        # for a 10x10 grid\n",
    "        n_states = dim*dim\n",
    "        # define action space\n",
    "        # next step: make it a continuous space\n",
    "        self.action_space = gym.spaces.Discrete(n_actions)\n",
    "        # define observation space\n",
    "        self.observation_space = gym.spaces.Discrete(n_states)\n",
    "\n",
    "        # check if reset\n",
    "        self.if_reset = False\n",
    "        \n",
    "        # a 10x10 grid as the environment\n",
    "        self.grid = np.zeros((dim,dim))\n",
    "\n",
    "        # define initial position\n",
    "        self.agent_position = (0,0)\n",
    "\n",
    "        # define goal postion as upper opposite corner\n",
    "        self.goal = (dim-1,dim-1) \n",
    "\n",
    "    def step(self, action):\n",
    "        # change the agent's position depending on the input\n",
    "        \n",
    "        row = self.agent_position[0] # current row\n",
    "        col = self.agent_position[1] # current col\n",
    "        \n",
    "        if action == 0: #UP\n",
    "            if 0 <= row-1 < dim: # checking the boundary\n",
    "                self.agent_position = (row-1,col)\n",
    "            else:\n",
    "                # position stays the same if the agent is at an edge\n",
    "                self.agent_position = self.agent_position \n",
    "        elif action == 1: #DOWN\n",
    "            if 0 <= row+1 < dim:\n",
    "                self.agent_position = (row+1,col)\n",
    "            else:\n",
    "                self.agent_position = self.agent_position                \n",
    "        elif action == 2: #LEFT\n",
    "            if 0 <= col-1 < dim:\n",
    "                self.agent_position = (row,col-1)\n",
    "            else:\n",
    "                self.agent_position = self.agent_position                \n",
    "        elif action == 3: #RIGHT\n",
    "            if 0 <= col+1 < dim:\n",
    "                self.agent_position = (row,col+1)\n",
    "            else:\n",
    "                self.agent_position = self.agent_position\n",
    "        \n",
    "        # observation is the agent's position on the grid, from 0 to 99\n",
    "        observation = self.agent_position[0]*10 + self.agent_position[1]\n",
    "\n",
    "        # reward function based on the value of the agent's position\n",
    "        reward = observation +1\n",
    "        '''\n",
    "        if observation == 99:\n",
    "            reward = 100\n",
    "        elif observation % 2 == 0:\n",
    "            reward = 20\n",
    "        else:\n",
    "            reward = 30'\n",
    "        '''\n",
    "        \n",
    "        # task is complete if the agent reaches the goal\n",
    "        terminated = None\n",
    "        if self.agent_position == self.goal:\n",
    "            terminated = True\n",
    "\n",
    "        return observation, reward, terminated, False, {}\n",
    "    \n",
    "    def reset(self):\n",
    "        # reset agent to initial position\n",
    "        self.agent_position = (0,0)\n",
    "        # define goal postion \n",
    "        self.goal = (dim-1,dim-1)\n",
    "        # get initial observation\n",
    "        observation = self.agent_position[0]*10 + self.agent_position[1]\n",
    "    \n",
    "        return observation, {}\n",
    "    \n",
    "    def render(self):\n",
    "        self.grid = np.zeros((dim,dim))\n",
    "        self.grid[self.goal] = 99\n",
    "\n",
    "        # point values for visualization\n",
    "        \n",
    "        # trying to teach the agent a spiral pattern\n",
    "\n",
    "        # agent position value for visualization\n",
    "        self.grid[self.agent_position] = 50\n",
    "\n",
    "        return self.grid\n",
    "\n",
    "    def close(self):\n",
    "        pass"
   ]
  },
  {
   "cell_type": "code",
   "execution_count": 155,
   "metadata": {},
   "outputs": [
    {
     "data": {
      "text/plain": [
       "<matplotlib.image.AxesImage at 0x2a84a6ae6a0>"
      ]
     },
     "execution_count": 155,
     "metadata": {},
     "output_type": "execute_result"
    },
    {
     "data": {
      "image/png": "[encoded data removed]",
      "text/plain": [
       "<Figure size 640x480 with 1 Axes>"
      ]
     },
     "metadata": {},
     "output_type": "display_data"
    }
   ],
   "source": [
    "env = RobotEnv()\n",
    "env.reset()\n",
    "plt.imshow(env.render(),cmap='coolwarm')"
   ]
  },
  {
   "cell_type": "code",
   "execution_count": 156,
   "metadata": {},
   "outputs": [],
   "source": [
    "def select_action(q_table, state, epsilon, action_space):\n",
    "    if np.random.rand() > epsilon:\n",
    "        # exploitation uses q table to choose action\n",
    "        action = q_table[state, :].argmax()\n",
    "    else:\n",
    "        # exploration is random\n",
    "        action = np.random.randint(4)\n",
    "    return action"
   ]
  },
  {
   "cell_type": "code",
   "execution_count": 157,
   "metadata": {},
   "outputs": [],
   "source": [
    "def q_learning(epsilon,eps_decay,min_epsilon,gamma,action_space,rewards):\n",
    "    q_table = np.zeros((100,4))\n",
    "    actions = ['up', 'down', 'left', 'right'] \n",
    "    # reset the environment\n",
    "    state, _ = env.reset()\n",
    "    learning_rate = 0.5\n",
    "\n",
    "    for t in range(50000):\n",
    "        # select action\n",
    "        action = select_action(q_table, state,  epsilon, action_space)\n",
    "        next_state, reward, terminated, truncated, info = env.step(action)\n",
    "        # update q table\n",
    "        q_table[state, action] = (1 - learning_rate) * q_table[state, action] + \\\n",
    "                                learning_rate * (reward + (gamma * q_table[next_state, :].max()))\n",
    "        # update rewards list\n",
    "        rewards.append(reward)\n",
    "        state = next_state\n",
    "        # update epsilon if decay is used\n",
    "        epsilon = np.max([epsilon - eps_decay, min_epsilon])\n",
    "    \n",
    "    return q_table, rewards"
   ]
  },
  {
   "cell_type": "code",
   "execution_count": 158,
   "metadata": {},
   "outputs": [],
   "source": [
    "q_tableD, rewardsD = q_learning(0.99,0.001,0.1,0.8,4,[])"
   ]
  },
  {
   "cell_type": "code",
   "execution_count": 159,
   "metadata": {},
   "outputs": [
    {
     "data": {
      "text/plain": [
       "Text(0.5, 1.0, 'Epsilon=0.99, Decay=0.001, Gamma=0.9')"
      ]
     },
     "execution_count": 159,
     "metadata": {},
     "output_type": "execute_result"
    },
    {
     "data": {
      "image/png": "[encoded data removed]",
      "text/plain": [
       "<Figure size 640x480 with 1 Axes>"
      ]
     },
     "metadata": {},
     "output_type": "display_data"
    }
   ],
   "source": [
    "T = 1000\n",
    "reward_conv1 =  np.convolve(np.array(rewardsD), np.ones(T), mode=\"valid\") / T\n",
    "fig, ax = plt.subplots()\n",
    "ax.plot(reward_conv1)\n",
    "ax.set_xlabel('Iterations')\n",
    "ax.set_ylabel('Reward')\n",
    "ax.set_title('Epsilon=0.99, Decay=0.001, Gamma=0.9')"
   ]
  },
  {
   "cell_type": "code",
   "execution_count": 160,
   "metadata": {},
   "outputs": [
    {
     "data": {
      "text/plain": [
       "array([[  1.5674    ,   0.        ,   2.0435    ,   6.86      ],\n",
       "       [  8.06      ,  13.4       ,   0.9       ,   1.5       ],\n",
       "       [  1.5       ,  33.6941656 ,   0.        ,   7.        ],\n",
       "       [  0.        ,  72.0889438 ,  10.778     ,   0.        ],\n",
       "       [  0.        ,   0.        ,   6.        ,   0.        ],\n",
       "       [  8.18      ,   9.2       ,   2.5       ,   4.2       ],\n",
       "       [  0.        ,   0.        ,   0.        ,   0.        ],\n",
       "       [  0.        ,   0.        ,   0.        ,   0.        ],\n",
       "       [  0.        ,   0.        ,   0.        ,   0.        ],\n",
       "       [  0.        ,   0.        ,   0.        ,   0.        ],\n",
       "       [  0.        ,   0.        ,   0.        ,   0.        ],\n",
       "       [  8.06      ,  11.        ,   0.        ,   6.5       ],\n",
       "       [ 14.41148   ,   0.        ,  10.4       , 102.46765781],\n",
       "       [ 33.53272955, 148.4774124 ,  48.74361558,  16.25      ],\n",
       "       [  0.        ,  12.5       ,  43.90198387,   0.        ],\n",
       "       [  8.18      ,   0.        ,   0.        ,   0.        ],\n",
       "       [  0.        ,   0.        ,   0.        ,   0.        ],\n",
       "       [  0.        ,   0.        ,   0.        ,   0.        ],\n",
       "       [  0.        ,   0.        ,   0.        ,   0.        ],\n",
       "       [  0.        ,   0.        ,   0.        ,   0.        ],\n",
       "       [  0.        ,   0.        ,   0.        ,   0.        ],\n",
       "       [ 10.4       , 104.56191612,   0.        ,  11.5       ],\n",
       "       [ 52.1141117 ,  87.0900963 ,  80.12976922, 154.5566781 ],\n",
       "       [102.92602067, 217.49284007,  89.6461017 ,  67.04295629],\n",
       "       [  0.        ,  17.5       , 125.15807892,  13.        ],\n",
       "       [  8.        ,   0.        ,   0.        ,   0.        ],\n",
       "       [  0.        ,   0.        ,   0.        ,   0.        ],\n",
       "       [  0.        ,   0.        ,   0.        ,   0.        ],\n",
       "       [  0.        ,   0.        ,   0.        ,   0.        ],\n",
       "       [  0.        ,   0.        ,   0.        ,   0.        ],\n",
       "       [  0.        , 188.16074134, 144.50807344,  97.9638464 ],\n",
       "       [ 90.00039168,  73.40702984, 149.63916545, 126.00469385],\n",
       "       [114.62530459, 262.808     , 121.66975105, 205.56968331],\n",
       "       [116.85283252, 217.37412578, 243.2464    , 213.25156631],\n",
       "       [ 63.84084444, 166.91374624, 228.59712   , 100.98734978],\n",
       "       [  0.        , 135.        , 217.87769486, 158.32976587],\n",
       "       [  0.        ,   0.        ,   0.        ,   0.        ],\n",
       "       [  0.        ,   0.        ,   0.        ,   0.        ],\n",
       "       [  0.        ,   0.        ,   0.        ,   0.        ],\n",
       "       [  0.        ,   0.        ,   0.        ,   0.        ],\n",
       "       [154.40852141, 229.31042492, 184.91590346, 108.76373268],\n",
       "       [106.66001458, 264.45121778,  20.5       , 107.8243582 ],\n",
       "       [164.30756491, 274.76      , 227.35377001, 244.39043083],\n",
       "       [154.96889869, 277.2       , 253.75261301, 192.54388029],\n",
       "       [217.87769131, 139.5       , 265.75999997, 151.1       ],\n",
       "       [210.30213451, 280.        , 257.59691706, 269.99999879],\n",
       "       [  0.        ,   0.        ,   0.        ,   0.        ],\n",
       "       [  0.        ,   0.        ,   0.        ,   0.        ],\n",
       "       [  0.        ,   0.        ,   0.        ,   0.        ],\n",
       "       [  0.        ,   0.        ,   0.        ,   0.        ],\n",
       "       [167.41468323, 172.44959611, 208.85512357, 265.10961396],\n",
       "       [229.50257339, 262.01148482, 237.96279441, 274.59761504],\n",
       "       [259.14598948, 271.36338292, 270.66816874, 277.2       ],\n",
       "       [264.75744523, 276.51401596, 274.68820097, 279.        ],\n",
       "       [257.60726705, 279.        , 277.19999996, 280.        ],\n",
       "       [270.        , 280.        , 279.        , 280.        ],\n",
       "       [  0.        ,   0.        ,   0.        ,   0.        ],\n",
       "       [  0.        ,   0.        ,   0.        ,   0.        ],\n",
       "       [  0.        ,   0.        ,   0.        ,   0.        ],\n",
       "       [  0.        ,   0.        ,   0.        ,   0.        ],\n",
       "       [  0.        ,   0.        ,   0.        ,   0.        ],\n",
       "       [  0.        ,   0.        ,   0.        ,   0.        ],\n",
       "       [  0.        ,   0.        ,   0.        ,   0.        ],\n",
       "       [  0.        ,   0.        ,   0.        ,   0.        ],\n",
       "       [  0.        ,   0.        ,   0.        ,   0.        ],\n",
       "       [  0.        ,   0.        ,   0.        ,   0.        ],\n",
       "       [  0.        ,   0.        ,   0.        ,   0.        ],\n",
       "       [  0.        ,   0.        ,   0.        ,   0.        ],\n",
       "       [  0.        ,   0.        ,   0.        ,   0.        ],\n",
       "       [  0.        ,   0.        ,   0.        ,   0.        ],\n",
       "       [  0.        ,   0.        ,   0.        ,   0.        ],\n",
       "       [  0.        ,   0.        ,   0.        ,   0.        ],\n",
       "       [  0.        ,   0.        ,   0.        ,   0.        ],\n",
       "       [  0.        ,   0.        ,   0.        ,   0.        ],\n",
       "       [  0.        ,   0.        ,   0.        ,   0.        ],\n",
       "       [  0.        ,   0.        ,   0.        ,   0.        ],\n",
       "       [  0.        ,   0.        ,   0.        ,   0.        ],\n",
       "       [  0.        ,   0.        ,   0.        ,   0.        ],\n",
       "       [  0.        ,   0.        ,   0.        ,   0.        ],\n",
       "       [  0.        ,   0.        ,   0.        ,   0.        ],\n",
       "       [  0.        ,   0.        ,   0.        ,   0.        ],\n",
       "       [  0.        ,   0.        ,   0.        ,   0.        ],\n",
       "       [  0.        ,   0.        ,   0.        ,   0.        ],\n",
       "       [  0.        ,   0.        ,   0.        ,   0.        ],\n",
       "       [  0.        ,   0.        ,   0.        ,   0.        ],\n",
       "       [  0.        ,   0.        ,   0.        ,   0.        ],\n",
       "       [  0.        ,   0.        ,   0.        ,   0.        ],\n",
       "       [  0.        ,   0.        ,   0.        ,   0.        ],\n",
       "       [  0.        ,   0.        ,   0.        ,   0.        ],\n",
       "       [  0.        ,   0.        ,   0.        ,   0.        ],\n",
       "       [  0.        ,   0.        ,   0.        ,   0.        ],\n",
       "       [  0.        ,   0.        ,   0.        ,   0.        ],\n",
       "       [  0.        ,   0.        ,   0.        ,   0.        ],\n",
       "       [  0.        ,   0.        ,   0.        ,   0.        ],\n",
       "       [  0.        ,   0.        ,   0.        ,   0.        ],\n",
       "       [  0.        ,   0.        ,   0.        ,   0.        ],\n",
       "       [  0.        ,   0.        ,   0.        ,   0.        ],\n",
       "       [  0.        ,   0.        ,   0.        ,   0.        ],\n",
       "       [  0.        ,   0.        ,   0.        ,   0.        ],\n",
       "       [  0.        ,   0.        ,   0.        ,   0.        ]])"
      ]
     },
     "execution_count": 160,
     "metadata": {},
     "output_type": "execute_result"
    }
   ],
   "source": [
    "q_tableD"
   ]
  },
  {
   "cell_type": "code",
   "execution_count": 164,
   "metadata": {},
   "outputs": [
    {
     "data": {
      "image/png": "[encoded data removed]",
      "text/plain": [
       "<Figure size 640x480 with 1 Axes>"
      ]
     },
     "metadata": {},
     "output_type": "display_data"
    }
   ],
   "source": [
    "state, _ = env.reset()\n",
    "actions = ['up', 'down', 'left','right' ] \n",
    "path = []\n",
    "\n",
    "for t in range(100):\n",
    "    action = q_tableD[state, :].argmax()\n",
    "    path.append((env.agent_position,actions[action]))\n",
    "\n",
    "    next_state, reward, terminated, truncated, info = env.step(action)\n",
    "    state = next_state\n",
    "    plt.imshow(env.render(),cmap='coolwarm')\n",
    "    \n",
    "    if terminated:\n",
    "        path.append((env.agent_position,actions[action]))\n",
    "        state, _ = env.reset()\n",
    "        break"
   ]
  },
  {
   "cell_type": "code",
   "execution_count": 165,
   "metadata": {},
   "outputs": [
    {
     "data": {
      "text/plain": [
       "[((0, 0), 'right'),\n",
       " ((0, 1), 'down'),\n",
       " ((1, 1), 'down'),\n",
       " ((2, 1), 'down'),\n",
       " ((3, 1), 'left'),\n",
       " ((3, 0), 'down'),\n",
       " ((4, 0), 'down'),\n",
       " ((5, 0), 'right'),\n",
       " ((5, 1), 'right'),\n",
       " ((5, 2), 'right'),\n",
       " ((5, 3), 'right'),\n",
       " ((5, 4), 'right'),\n",
       " ((5, 5), 'right')]"
      ]
     },
     "execution_count": 165,
     "metadata": {},
     "output_type": "execute_result"
    }
   ],
   "source": [
    "path"
   ]
  },
  {
   "cell_type": "code",
   "execution_count": 166,
   "metadata": {},
   "outputs": [
    {
     "data": {
      "text/plain": [
       "<matplotlib.image.AxesImage at 0x2a84bdee640>"
      ]
     },
     "execution_count": 166,
     "metadata": {},
     "output_type": "execute_result"
    },
    {
     "data": {
      "image/png": "[encoded data removed]",
      "text/plain": [
       "<Figure size 640x480 with 1 Axes>"
      ]
     },
     "metadata": {},
     "output_type": "display_data"
    }
   ],
   "source": [
    "grid = np.zeros((dim,dim))\n",
    "for i in range(len(path)):\n",
    "    grid[path[i][0]] = i+1\n",
    "plt.imshow(grid,cmap='Reds')"
   ]
  },
  {
   "cell_type": "code",
   "execution_count": 21,
   "metadata": {},
   "outputs": [
    {
     "data": {
      "text/plain": [
       "<matplotlib.image.AxesImage at 0x17050c17340>"
      ]
     },
     "execution_count": 21,
     "metadata": {},
     "output_type": "execute_result"
    },
    {
     "data": {
      "image/png": "[encoded data removed]",
      "text/plain": [
       "<Figure size 640x480 with 1 Axes>"
      ]
     },
     "metadata": {},
     "output_type": "display_data"
    }
   ],
   "source": [
    "path = []\n",
    "# if row number is odd, go right, otherwise go left\n",
    "# if end of row, go down\n",
    "for i in range(dim):\n",
    "    path.append(((0,i),'right'))\n",
    "path.append(((1,dim),'down'))\n",
    "for i in range(dim):\n",
    "    path.append(((1,i),'left'))\n",
    "\n",
    "grid = np.zeros((dim,dim))\n",
    "for i in range(dim):\n",
    "    for j in range(dim):\n",
    "        grid[path[i][0]] = i+1\n",
    "\n",
    "plt.imshow(grid,cmap='Reds')"
   ]
  },
  {
   "cell_type": "code",
   "execution_count": 13,
   "metadata": {},
   "outputs": [
    {
     "data": {
      "text/plain": [
       "[((0, 0), 'right'),\n",
       " ((0, 1), 'right'),\n",
       " ((0, 2), 'right'),\n",
       " ((0, 3), 'right'),\n",
       " ((0, 4), 'right'),\n",
       " ((0, 5), 'right'),\n",
       " ((1, 6), 'down'),\n",
       " ((1, 0), 'left'),\n",
       " ((1, 1), 'left'),\n",
       " ((1, 2), 'left'),\n",
       " ((1, 3), 'left'),\n",
       " ((1, 4), 'left'),\n",
       " ((1, 5), 'left')]"
      ]
     },
     "execution_count": 13,
     "metadata": {},
     "output_type": "execute_result"
    }
   ],
   "source": [
    "path"
   ]
  },
  {
   "cell_type": "code",
   "execution_count": 15,
   "metadata": {},
   "outputs": [
    {
     "data": {
      "text/plain": [
       "1"
      ]
     },
     "execution_count": 15,
     "metadata": {},
     "output_type": "execute_result"
    }
   ],
   "source": [
    "len(path)%dim"
   ]
  },
  {
   "cell_type": "code",
   "execution_count": null,
   "metadata": {},
   "outputs": [],
   "source": []
  }
 ],
 "metadata": {
  "kernelspec": {
   "display_name": "gym",
   "language": "python",
   "name": "python3"
  },
  "language_info": {
   "codemirror_mode": {
    "name": "ipython",
    "version": 3
   },
   "file_extension": ".py",
   "mimetype": "text/x-python",
   "name": "python",
   "nbconvert_exporter": "python",
   "pygments_lexer": "ipython3",
   "version": "3.9.18"
  }
 },
 "nbformat": 4,
 "nbformat_minor": 2
}
